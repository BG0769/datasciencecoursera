{
 "cells": [
  {
   "cell_type": "markdown",
   "id": "e141e4c4-e1ce-4294-8afa-b59b3de4912a",
   "metadata": {},
   "source": [
    "# Data Science Tools and Ecosystem"
   ]
  },
  {
   "cell_type": "markdown",
   "id": "e0678c6e-660e-42ec-8daf-da30ea8d1a68",
   "metadata": {
    "tags": []
   },
   "source": [
    "# In this notebook, Data Science Tools and Ecosystem are summarized."
   ]
  },
  {
   "cell_type": "markdown",
   "id": "94ba03c0-2815-4f30-a834-5e0565283b94",
   "metadata": {
    "tags": []
   },
   "source": [
    "# **Objectives:**\n",
    "\n",
    "* Python\n",
    "* RStudio\n",
    "* SQL\n",
    "* MATLAB\n",
    "* Scala"
   ]
  },
  {
   "cell_type": "markdown",
   "id": "58c29965-9d6b-4880-8a4c-dea61a5804c4",
   "metadata": {
    "tags": []
   },
   "source": [
    "# Some of the popular languages that Data Scientists use are:\n",
    "1. Python\n",
    "2. R\n",
    "3. SQL"
   ]
  },
  {
   "cell_type": "markdown",
   "id": "ef632aa9-47b8-41cc-9666-fe2e9f972174",
   "metadata": {},
   "source": [
    "# Some of the commonly used libraries used by Data Scientists include:\n",
    "1. NumPy\n",
    "2. Pandas\n",
    "3. TensorFlow\n",
    "4. PyTorch\n",
    "5. Seaborn"
   ]
  },
  {
   "cell_type": "markdown",
   "id": "1c76ba42-171d-4b7d-934d-97f366ab4131",
   "metadata": {},
   "source": [
    "|Data Science Tools |\n",
    "|--------------------|\n",
    "|Jupyter Notebook |\n",
    "|RStudio          |\n",
    "|Spyder           |"
   ]
  },
  {
   "cell_type": "markdown",
   "id": "6d6d74e3-be0b-4861-8503-04eabfd7e7ad",
   "metadata": {},
   "source": [
    "### Below are a few examples of evaluating arithmetic expressions in Python."
   ]
  },
  {
   "cell_type": "code",
   "execution_count": 13,
   "id": "acb01a33-ab97-4628-b313-c2e04ce4c521",
   "metadata": {
    "tags": []
   },
   "outputs": [
    {
     "data": {
      "text/plain": [
       "17"
      ]
     },
     "execution_count": 13,
     "metadata": {},
     "output_type": "execute_result"
    }
   ],
   "source": [
    "# This a simple arithmetic expression to mutiply then add integers.\n",
    "(3*4)+5\n"
   ]
  },
  {
   "cell_type": "code",
   "execution_count": 15,
   "id": "d8f54645-af2a-4650-af7e-57edb09aa5d2",
   "metadata": {},
   "outputs": [
    {
     "data": {
      "text/plain": [
       "3.3333333333333335"
      ]
     },
     "execution_count": 15,
     "metadata": {},
     "output_type": "execute_result"
    }
   ],
   "source": [
    "# This will convert 200 minutes to hours by dividing by 60.\n",
    "200/60"
   ]
  },
  {
   "cell_type": "markdown",
   "id": "ea672401-5693-4f56-ab84-1c2d4bd62a51",
   "metadata": {},
   "source": [
    "## Author\n",
    "Benjamin"
   ]
  },
  {
   "cell_type": "code",
   "execution_count": null,
   "id": "fbef54fe-9001-47ff-9082-8214681affed",
   "metadata": {},
   "outputs": [],
   "source": []
  }
 ],
 "metadata": {
  "kernelspec": {
   "display_name": "Python",
   "language": "python",
   "name": "conda-env-python-py"
  },
  "language_info": {
   "codemirror_mode": {
    "name": "ipython",
    "version": 3
   },
   "file_extension": ".py",
   "mimetype": "text/x-python",
   "name": "python",
   "nbconvert_exporter": "python",
   "pygments_lexer": "ipython3",
   "version": "3.7.12"
  }
 },
 "nbformat": 4,
 "nbformat_minor": 5
}
